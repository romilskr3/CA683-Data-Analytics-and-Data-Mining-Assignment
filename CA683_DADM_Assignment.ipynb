{
  "cells": [
    {
      "cell_type": "markdown",
      "metadata": {},
      "source": [
        "# CA683 Data Analytics and Data Mining Assignment"
      ]
    },
    {
      "cell_type": "markdown",
      "metadata": {},
      "source": [
        "## Data Loading"
      ]
    },
    {
      "cell_type": "code",
      "execution_count": 2,
      "metadata": {
        "colab": {
          "base_uri": "https://localhost:8080/"
        },
        "id": "NJiJMbN6BgSv",
        "outputId": "067d140b-351c-4540-d83f-8bca477ed342"
      },
      "outputs": [
        {
          "name": "stderr",
          "output_type": "stream",
          "text": [
            "C:\\Users\\romil\\AppData\\Local\\Packages\\PythonSoftwareFoundation.Python.3.9_qbz5n2kfra8p0\\LocalCache\\local-packages\\Python39\\site-packages\\IPython\\core\\interactiveshell.py:3444: DtypeWarning: Columns (6) have mixed types.Specify dtype option on import or set low_memory=False.\n",
            "  exec(code_obj, self.user_global_ns, self.user_ns)\n"
          ]
        }
      ],
      "source": [
        "#DataLoading\n",
        "import pandas as pd\n",
        "import numpy as np\n",
        "import seaborn as sns\n",
        "import calendar\n",
        "import matplotlib.pyplot as plt\n",
        "%matplotlib inline\n",
        "result=pd.read_csv(\"C:\\\\Users\\\\romil\\\\Downloads\\\\yellow_tripdata_2021-07.csv\")"
      ]
    },
    {
      "cell_type": "code",
      "execution_count": 3,
      "metadata": {
        "colab": {
          "base_uri": "https://localhost:8080/"
        },
        "id": "NwYI7TXKfsTD",
        "outputId": "e3713946-5284-4177-a285-584fa00d7d9c"
      },
      "outputs": [
        {
          "data": {
            "text/plain": [
              "2821515"
            ]
          },
          "execution_count": 3,
          "metadata": {},
          "output_type": "execute_result"
        }
      ],
      "source": [
        "len(result)"
      ]
    },
    {
      "cell_type": "code",
      "execution_count": 4,
      "metadata": {
        "colab": {
          "base_uri": "https://localhost:8080/"
        },
        "id": "G40HMe0Jf-98",
        "outputId": "f4f01bf3-c03a-4be7-88c1-aee247bbd418"
      },
      "outputs": [
        {
          "data": {
            "text/plain": [
              "Index(['VendorID', 'tpep_pickup_datetime', 'tpep_dropoff_datetime',\n",
              "       'passenger_count', 'trip_distance', 'RatecodeID', 'store_and_fwd_flag',\n",
              "       'PULocationID', 'DOLocationID', 'payment_type', 'fare_amount', 'extra',\n",
              "       'mta_tax', 'tip_amount', 'tolls_amount', 'improvement_surcharge',\n",
              "       'total_amount', 'congestion_surcharge'],\n",
              "      dtype='object')"
            ]
          },
          "execution_count": 4,
          "metadata": {},
          "output_type": "execute_result"
        }
      ],
      "source": [
        "result.columns"
      ]
    },
    {
      "cell_type": "code",
      "execution_count": 5,
      "metadata": {
        "id": "1kgwzugRk_x_"
      },
      "outputs": [],
      "source": [
        "#Eliminating columns that are not required\n",
        "result=result[['tpep_pickup_datetime','tpep_dropoff_datetime','passenger_count','trip_distance', 'payment_type', 'fare_amount', 'total_amount','tip_amount']]"
      ]
    },
    {
      "cell_type": "markdown",
      "metadata": {
        "id": "Bdp9z9d8ptr4"
      },
      "source": [
        "## Data Processing"
      ]
    },
    {
      "cell_type": "code",
      "execution_count": 6,
      "metadata": {
        "colab": {
          "base_uri": "https://localhost:8080/",
          "height": 0
        },
        "id": "H1nOO1hiZmBT",
        "outputId": "7231ae4e-b45a-4608-d33f-3177cfd75dda"
      },
      "outputs": [
        {
          "data": {
            "text/html": [
              "<div>\n",
              "<style scoped>\n",
              "    .dataframe tbody tr th:only-of-type {\n",
              "        vertical-align: middle;\n",
              "    }\n",
              "\n",
              "    .dataframe tbody tr th {\n",
              "        vertical-align: top;\n",
              "    }\n",
              "\n",
              "    .dataframe thead th {\n",
              "        text-align: right;\n",
              "    }\n",
              "</style>\n",
              "<table border=\"1\" class=\"dataframe\">\n",
              "  <thead>\n",
              "    <tr style=\"text-align: right;\">\n",
              "      <th></th>\n",
              "      <th>passenger_count</th>\n",
              "      <th>trip_distance</th>\n",
              "      <th>payment_type</th>\n",
              "      <th>fare_amount</th>\n",
              "      <th>total_amount</th>\n",
              "      <th>tip_amount</th>\n",
              "    </tr>\n",
              "  </thead>\n",
              "  <tbody>\n",
              "    <tr>\n",
              "      <th>count</th>\n",
              "      <td>2690859.00000</td>\n",
              "      <td>2821515.00000</td>\n",
              "      <td>2690859.00000</td>\n",
              "      <td>2821515.00000</td>\n",
              "      <td>2821515.00000</td>\n",
              "      <td>2821515.00000</td>\n",
              "    </tr>\n",
              "    <tr>\n",
              "      <th>mean</th>\n",
              "      <td>1.46099</td>\n",
              "      <td>7.78665</td>\n",
              "      <td>1.26011</td>\n",
              "      <td>13.64102</td>\n",
              "      <td>19.87764</td>\n",
              "      <td>2.35525</td>\n",
              "    </tr>\n",
              "    <tr>\n",
              "      <th>std</th>\n",
              "      <td>1.07020</td>\n",
              "      <td>760.81913</td>\n",
              "      <td>0.47845</td>\n",
              "      <td>12.88066</td>\n",
              "      <td>15.67248</td>\n",
              "      <td>2.88678</td>\n",
              "    </tr>\n",
              "    <tr>\n",
              "      <th>min</th>\n",
              "      <td>0.00000</td>\n",
              "      <td>0.00000</td>\n",
              "      <td>1.00000</td>\n",
              "      <td>-550.00000</td>\n",
              "      <td>-554.05000</td>\n",
              "      <td>-91.66000</td>\n",
              "    </tr>\n",
              "    <tr>\n",
              "      <th>25%</th>\n",
              "      <td>1.00000</td>\n",
              "      <td>1.10000</td>\n",
              "      <td>1.00000</td>\n",
              "      <td>6.50000</td>\n",
              "      <td>11.76000</td>\n",
              "      <td>0.00000</td>\n",
              "    </tr>\n",
              "    <tr>\n",
              "      <th>50%</th>\n",
              "      <td>1.00000</td>\n",
              "      <td>1.89000</td>\n",
              "      <td>1.00000</td>\n",
              "      <td>9.50000</td>\n",
              "      <td>15.30000</td>\n",
              "      <td>2.00000</td>\n",
              "    </tr>\n",
              "    <tr>\n",
              "      <th>75%</th>\n",
              "      <td>2.00000</td>\n",
              "      <td>3.45000</td>\n",
              "      <td>1.00000</td>\n",
              "      <td>15.00000</td>\n",
              "      <td>21.30000</td>\n",
              "      <td>3.05000</td>\n",
              "    </tr>\n",
              "    <tr>\n",
              "      <th>max</th>\n",
              "      <td>9.00000</td>\n",
              "      <td>305397.57000</td>\n",
              "      <td>5.00000</td>\n",
              "      <td>1320.00000</td>\n",
              "      <td>1320.80000</td>\n",
              "      <td>400.00000</td>\n",
              "    </tr>\n",
              "  </tbody>\n",
              "</table>\n",
              "</div>"
            ],
            "text/plain": [
              "      passenger_count  trip_distance   payment_type    fare_amount  \\\n",
              "count   2690859.00000  2821515.00000  2690859.00000  2821515.00000   \n",
              "mean          1.46099        7.78665        1.26011       13.64102   \n",
              "std           1.07020      760.81913        0.47845       12.88066   \n",
              "min           0.00000        0.00000        1.00000     -550.00000   \n",
              "25%           1.00000        1.10000        1.00000        6.50000   \n",
              "50%           1.00000        1.89000        1.00000        9.50000   \n",
              "75%           2.00000        3.45000        1.00000       15.00000   \n",
              "max           9.00000   305397.57000        5.00000     1320.00000   \n",
              "\n",
              "        total_amount     tip_amount  \n",
              "count  2821515.00000  2821515.00000  \n",
              "mean        19.87764        2.35525  \n",
              "std         15.67248        2.88678  \n",
              "min       -554.05000      -91.66000  \n",
              "25%         11.76000        0.00000  \n",
              "50%         15.30000        2.00000  \n",
              "75%         21.30000        3.05000  \n",
              "max       1320.80000      400.00000  "
            ]
          },
          "execution_count": 6,
          "metadata": {},
          "output_type": "execute_result"
        }
      ],
      "source": [
        "result.describe().apply(lambda s: s.apply('{0:.5f}'.format))"
      ]
    },
    {
      "cell_type": "markdown",
      "metadata": {
        "id": "4RiFP4XbWTRc"
      },
      "source": [
        "We can clearly see there are some significant outliers and incorrect (negative) values"
      ]
    },
    {
      "cell_type": "code",
      "execution_count": 7,
      "metadata": {
        "colab": {
          "base_uri": "https://localhost:8080/"
        },
        "id": "gYdCzCEtkmZA",
        "outputId": "fbf23205-9893-4888-930f-ca89c2a05b24"
      },
      "outputs": [
        {
          "data": {
            "text/plain": [
              "0"
            ]
          },
          "execution_count": 7,
          "metadata": {},
          "output_type": "execute_result"
        }
      ],
      "source": [
        "#Checking for duplicate values\n",
        "result.duplicated().sum()"
      ]
    },
    {
      "cell_type": "markdown",
      "metadata": {
        "id": "HUtNt255pCL7"
      },
      "source": [
        "### Handling Null Values"
      ]
    },
    {
      "cell_type": "code",
      "execution_count": 8,
      "metadata": {
        "colab": {
          "base_uri": "https://localhost:8080/"
        },
        "id": "qyYZ1y36ifpL",
        "outputId": "d64a37ae-80ff-453e-f3f0-e402db22b085"
      },
      "outputs": [
        {
          "data": {
            "text/plain": [
              "tpep_pickup_datetime          0\n",
              "tpep_dropoff_datetime         0\n",
              "passenger_count          130656\n",
              "trip_distance                 0\n",
              "payment_type             130656\n",
              "fare_amount                   0\n",
              "total_amount                  0\n",
              "tip_amount                    0\n",
              "dtype: int64"
            ]
          },
          "execution_count": 8,
          "metadata": {},
          "output_type": "execute_result"
        }
      ],
      "source": [
        "result.isnull().sum()"
      ]
    },
    {
      "cell_type": "code",
      "execution_count": 9,
      "metadata": {
        "colab": {
          "base_uri": "https://localhost:8080/"
        },
        "id": "iNzeLPyNjV0e",
        "outputId": "c1547773-ea5d-447c-8f02-bf5e7c4adec6"
      },
      "outputs": [
        {
          "data": {
            "text/plain": [
              "0"
            ]
          },
          "execution_count": 9,
          "metadata": {},
          "output_type": "execute_result"
        }
      ],
      "source": [
        "tempdf1=result[result['payment_type'].isnull()]\n",
        "tempdf2=result[result['passenger_count'].isnull()]\n",
        "len(tempdf2)-len(tempdf1) #same rows might have both both values as null"
      ]
    },
    {
      "cell_type": "code",
      "execution_count": 10,
      "metadata": {
        "colab": {
          "base_uri": "https://localhost:8080/"
        },
        "id": "TkQ0J-uvoHQ0",
        "outputId": "75b64c92-e8da-44a7-f227-d16fb282c96f"
      },
      "outputs": [
        {
          "data": {
            "text/plain": [
              "tpep_pickup_datetime     0\n",
              "tpep_dropoff_datetime    0\n",
              "passenger_count          0\n",
              "trip_distance            0\n",
              "payment_type             0\n",
              "fare_amount              0\n",
              "total_amount             0\n",
              "tip_amount               0\n",
              "dtype: int64"
            ]
          },
          "execution_count": 10,
          "metadata": {},
          "output_type": "execute_result"
        }
      ],
      "source": [
        "result=result[result['passenger_count'].notnull()]\n",
        "result.isnull().sum()"
      ]
    },
    {
      "cell_type": "markdown",
      "metadata": {
        "id": "GbM3TksI242D"
      },
      "source": [
        "## Handling Outliers"
      ]
    },
    {
      "cell_type": "code",
      "execution_count": 11,
      "metadata": {
        "id": "daI6OfRkIYsj"
      },
      "outputs": [],
      "source": [
        "#Since tips for payment type other than credit cards are not recorded,\n",
        "#Eliminating all rows with 'payment_type' not equal to 1\n",
        "result=result[result['payment_type']==1]"
      ]
    },
    {
      "cell_type": "code",
      "execution_count": 12,
      "metadata": {
        "id": "Ai_r6XIU0wD7"
      },
      "outputs": [],
      "source": [
        "#'passenger_count' is a value that is entered manually by every driver for every trip.\n",
        "#Since, it is manually added there is a high possibility that it may be incorrectly entered for some trips.\n",
        "#The maximum number of passengers allowed to travel in a yellow taxi by law is 6.\n",
        "#Therefore we eliminate all trips that has a higher passenger count than 6.\n",
        "#Also eliminating rows where passenger_count=0\n",
        "result=result[result['passenger_count']!=0]\n",
        "result=result[result['passenger_count']<=6]"
      ]
    },
    {
      "cell_type": "code",
      "execution_count": 13,
      "metadata": {
        "id": "6NjTh8vCTHBx"
      },
      "outputs": [],
      "source": [
        "#Eliminating rows where fare_amount=0\n",
        "result=result[result['fare_amount']!=0]\n",
        "#Eliminating rows where total_amount=0\n",
        "result=result[result['total_amount']!=0]\n",
        "#Eliminating rows with trip_distance=0\n",
        "result=result[result['trip_distance']!=0]"
      ]
    },
    {
      "cell_type": "code",
      "execution_count": 14,
      "metadata": {
        "colab": {
          "base_uri": "https://localhost:8080/"
        },
        "id": "qihPTGL2qQ34",
        "outputId": "4107e829-ab2c-4077-9cf3-6a8aea0f5065"
      },
      "outputs": [
        {
          "name": "stdout",
          "output_type": "stream",
          "text": [
            "0\n",
            "7\n"
          ]
        }
      ],
      "source": [
        "#Creating all combinations possible with the three columns that have negative values\n",
        "tempdf1=result[(result.fare_amount<0) & (result.tip_amount<0) & (result.total_amount<0)]\n",
        "tempdf2=result[(result.fare_amount<0) & (result.tip_amount<0) & (result.total_amount>0)]\n",
        "tempdf3=result[(result.fare_amount<0) & (result.tip_amount>=0) & (result.total_amount<0)]\n",
        "tempdf4=result[(result.fare_amount<0) & (result.tip_amount>=0) & (result.total_amount>0)]\n",
        "tempdf5=result[(result.fare_amount>0) & (result.tip_amount<0) & (result.total_amount<0)]\n",
        "tempdf6=result[(result.fare_amount>0) & (result.tip_amount<0) & (result.total_amount>0)]\n",
        "tempdf7=result[(result.fare_amount>0) & (result.tip_amount>=0) & (result.total_amount<0)]\n",
        "tempdf8=result[(result.fare_amount>0) & (result.tip_amount>=0) & (result.total_amount>=0)]\n",
        "#Verifying if all cases are correctly covered\n",
        "x=len(tempdf1)+len(tempdf2)+len(tempdf3)+len(tempdf4)+len(tempdf5)+len(tempdf6)+len(tempdf7)+len(tempdf8)-len(result)\n",
        "\n",
        "y=len(tempdf1)+len(tempdf2)+len(tempdf3)+len(tempdf4)+len(tempdf5)+len(tempdf6)+len(tempdf7)\n",
        "#tempdf1.head()\n",
        "print(x)\n",
        "print(y)"
      ]
    },
    {
      "cell_type": "code",
      "execution_count": 15,
      "metadata": {
        "id": "XWVHsCj_t5no"
      },
      "outputs": [],
      "source": [
        "#Since the total number of rows with negative fare values are not statistically significant, we can eliminate them.\n",
        "#Eliminating rows where fare_amount<0\n",
        "result=result[result['fare_amount']>0]\n",
        "#Eliminating rows where tip_amount<0\n",
        "result=result[result['tip_amount']>0]\n",
        "#Eliminating rows where total_amount<0\n",
        "result=result[result['total_amount']>0]"
      ]
    },
    {
      "cell_type": "markdown",
      "metadata": {
        "id": "UAteSLG1E-4a"
      },
      "source": [
        "# Feature Engineering"
      ]
    },
    {
      "cell_type": "code",
      "execution_count": 16,
      "metadata": {
        "id": "3C800D_5svJp"
      },
      "outputs": [],
      "source": [
        "#Focusing on PICKUP data only\n",
        "\n",
        "#Changing the data type of pickup and dropoff datetime attributes\n",
        "result['tpep_pickup_datetime']=pd.to_datetime(result['tpep_pickup_datetime'])\n",
        "\n",
        "#Adding month number columns\n",
        "result['pickup_month_number']=result['tpep_pickup_datetime'].dt.month\n",
        "\n",
        "#Filtering out any trips that may have intiated in any other months\n",
        "result=result[result.pickup_month_number==7]\n",
        "\n",
        "#Adding month name column\n",
        "result['pickup_month']=result['tpep_pickup_datetime'].dt.month_name()\n",
        "\n",
        "#Adding weekday number columns\n",
        "result['pickup_day_number']=result['tpep_pickup_datetime'].dt.weekday\n",
        "\n",
        "#Adding weekday number columns\n",
        "result['pickup_day']=result['tpep_pickup_datetime'].dt.day_name()\n",
        "\n",
        "#Adding hour column\n",
        "result['pickup_hour']=result['tpep_pickup_datetime'].dt.hour"
      ]
    },
    {
      "cell_type": "code",
      "execution_count": 17,
      "metadata": {
        "id": "sFrSkE-0U7j1"
      },
      "outputs": [],
      "source": [
        "#Calculating tip percentage\n",
        "def tipper(x,y):\n",
        "  if (x==y):\n",
        "    return 100\n",
        "  else:\n",
        "    z=(x/y)*100\n",
        "    return z\n",
        "\n",
        "temp_df2=result.apply(lambda row: tipper(row['tip_amount'],row['total_amount']), axis=1)\n",
        "result=pd.concat([result, temp_df2], axis=1)\n",
        "result=result.rename(columns={0:'tip_percentage'})"
      ]
    },
    {
      "cell_type": "code",
      "execution_count": 18,
      "metadata": {
        "id": "Y-lufKmMYP25"
      },
      "outputs": [],
      "source": [
        "#Creating tip percent bins: Split at average of tip percentage into 2 halves denoted by 1 and 2 respectively\n",
        "def tip_percent_bin(x):\n",
        "    if (x <=16.66666):\n",
        "        return 1\n",
        "    else:\n",
        "        return 2\n",
        "\n",
        "temp_df=result.apply(lambda row: tip_percent_bin(row['tip_percentage']), axis=1)\n",
        "result=pd.concat([result, temp_df], axis=1)\n",
        "result=result.rename(columns={0:'tip_percentage_bin'})"
      ]
    },
    {
      "cell_type": "code",
      "execution_count": 19,
      "metadata": {
        "id": "3WFctp1kZIsI"
      },
      "outputs": [],
      "source": [
        "#Calculating Speed\n",
        "result['tpep_dropoff_datetime']= pd.to_datetime(result['tpep_dropoff_datetime'])\n",
        "result['tpep_pickup_datetime']= pd.to_datetime(result['tpep_pickup_datetime'])\n",
        "\n",
        "result['timediff']=result['tpep_dropoff_datetime']-result['tpep_pickup_datetime']\n",
        "\n",
        "result['diff_in_seconds'] = pd.Series(pd.to_timedelta(result['timediff']))\n",
        "result['diff_in_seconds']=result['diff_in_seconds'].dt.total_seconds()\n",
        "result['trip_duration_mins']=result['diff_in_seconds']/60\n",
        "result['trip_duration_hours']=result['diff_in_seconds']/3600\n",
        "\n",
        "#Unit of speed is miles per hour\n",
        "result['speed']=result['trip_distance']/result['trip_duration_hours']"
      ]
    },
    {
      "cell_type": "code",
      "execution_count": 20,
      "metadata": {
        "id": "4n4_AYelaOAs"
      },
      "outputs": [],
      "source": [
        "#Only average speed between 1 and 50mph is considered\n",
        "result=result[(result['speed']>=1) & (result['speed']<=50)]\n",
        "#Trips lasting more than 1 min are only considered\n",
        "result=result[result['trip_duration_mins']>=1]\n",
        "#Trip distance between 1 and 850 miles is only considered\n",
        "result=result[(result['trip_distance']>=1) & (result['trip_distance']<=850)]"
      ]
    },
    {
      "cell_type": "code",
      "execution_count": 21,
      "metadata": {
        "id": "xO1magUJcLds"
      },
      "outputs": [],
      "source": [
        "#Dividing the day into the following four quarters and assigning value to each trip accordingly:\n",
        "#Q1:4AM-10AM\n",
        "#Q2:10AM-4PM\n",
        "#Q3:4PM-10PM\n",
        "#Q4:10PM-4AM\n",
        "\n",
        "def quater_of_day(x):\n",
        "    if x in range(4,10):\n",
        "        return 1\n",
        "    elif x in range(10,16):\n",
        "        return 2\n",
        "    elif x in range(16,22):\n",
        "        return 3\n",
        "    elif x in range(22,24):\n",
        "        return 4\n",
        "    elif x in range(0,4):\n",
        "        return 4\n",
        "\n",
        "temp_df=result.apply(lambda row: quater_of_day(row['pickup_hour']), axis=1)\n",
        "result=pd.concat([result, temp_df], axis=1)\n",
        "result=result.rename(columns={0:'pickup_hour_quater'})"
      ]
    },
    {
      "cell_type": "code",
      "execution_count": 22,
      "metadata": {},
      "outputs": [],
      "source": [
        "#Eliminating columns that are not required\n",
        "result=result[['passenger_count','trip_distance', 'pickup_day_number','pickup_day', 'tip_percentage','tip_percentage_bin', 'speed','pickup_hour_quater','trip_duration_hours', 'trip_duration_mins']]"
      ]
    },
    {
      "cell_type": "code",
      "execution_count": 23,
      "metadata": {},
      "outputs": [],
      "source": [
        "#Taking log of speed and trip distance\n",
        "log_speed=np.log(result['speed'])\n",
        "log_dist=np.log(result['trip_distance'])\n",
        "log_trip_dur_hour=np.log(result['trip_duration_hours'])\n",
        "log_trip_dur_min=np.log(result['trip_duration_mins'])\n",
        "result=pd.concat([result,log_speed,log_dist,log_trip_dur_hour,log_trip_dur_min], axis=1)\n",
        "headers=['passenger_count', 'trip_distance','pickup_day_number','pickup_day','tip_percentage','tip_percentage_bin','speed','pickup_hour_quater','trip_duration_hours','trip_duration_mins', 'log_speed',\t'log_trip_distance','log_trip_duration_hours','log_trip_duration_mins']\n",
        "result.columns=headers"
      ]
    },
    {
      "cell_type": "code",
      "execution_count": 24,
      "metadata": {},
      "outputs": [],
      "source": [
        "#Adding unique ID column\n",
        "result.insert(0, 'id', range(1, 1 + len(result)))"
      ]
    },
    {
      "cell_type": "markdown",
      "metadata": {
        "id": "Gpm_YzF7wFjE"
      },
      "source": [
        "## Data Exploration"
      ]
    },
    {
      "cell_type": "code",
      "execution_count": 25,
      "metadata": {},
      "outputs": [
        {
          "data": {
            "image/png": "[encoded data removed]",
            "text/plain": [
              "<Figure size 1080x576 with 1 Axes>"
            ]
          },
          "metadata": {
            "needs_background": "light"
          },
          "output_type": "display_data"
        }
      ],
      "source": [
        "temp = result.groupby(['pickup_day'])['id'].count().reset_index(name='count')\n",
        "f, ax=plt.subplots(figsize=(15,8))\n",
        "order_week=['Monday', 'Tuesday', 'Wednesday', 'Thursday', 'Friday', 'Saturday', 'Sunday']\n",
        "plt.title('Distribution of number of pickups on each day of the week', fontdict={'fontsize':15})\n",
        "sns.barplot(x='pickup_day',y='count', data=temp, palette='cool', order=order_week)\n",
        "ax.set_xlabel('Days', labelpad=15, fontdict={'fontsize':15})\n",
        "ax.set_ylabel('Number of trips (in millions)', labelpad=15, fontdict={'fontsize':15})\n",
        "plt.show()"
      ]
    },
    {
      "cell_type": "code",
      "execution_count": 26,
      "metadata": {
        "colab": {
          "base_uri": "https://localhost:8080/",
          "height": 533
        },
        "id": "3W9V3HVgfRyN",
        "outputId": "3fbb2496-95f4-4d99-97c9-f09a4d972a99"
      },
      "outputs": [
        {
          "data": {
            "image/png": "[encoded data removed]",
            "text/plain": [
              "<Figure size 1080x576 with 1 Axes>"
            ]
          },
          "metadata": {
            "needs_background": "light"
          },
          "output_type": "display_data"
        }
      ],
      "source": [
        "pickup_halfquater = result.groupby(['pickup_hour_quater'])['id'].count().reset_index(name='Count')\n",
        "f, ax=plt.subplots(figsize=(15,8))\n",
        "plt.title('Distribution of number of trips during the day', fontdict={'fontsize':15})\n",
        "sns.barplot(x='pickup_hour_quater',y='Count', data=pickup_halfquater, palette='Blues')\n",
        "ax.set_xlabel('Quaters of the Day', labelpad=15, fontdict={'fontsize':15})\n",
        "ax.set_ylabel('Number of trips', labelpad=15, fontdict={'fontsize':15})\n",
        "plt.show()"
      ]
    },
    {
      "cell_type": "markdown",
      "metadata": {
        "id": "HD5SXUwTH9gL"
      },
      "source": [
        "## Trip Duration"
      ]
    },
    {
      "cell_type": "code",
      "execution_count": 44,
      "metadata": {
        "colab": {
          "base_uri": "https://localhost:8080/",
          "height": 530
        },
        "id": "udzwcFJFCuiH",
        "outputId": "5ca037a4-cfd6-4184-d5f7-30f05cb0cbfd"
      },
      "outputs": [
        {
          "data": {
            "image/png": "[encoded data removed]",
            "text/plain": [
              "<Figure size 1080x576 with 1 Axes>"
            ]
          },
          "metadata": {},
          "output_type": "display_data"
        }
      ],
      "source": [
        "f, ax=plt.subplots(figsize=(15,8))\n",
        "plt.title('Distribution of duration of trips (in minutes)', fontdict={'fontsize':15})\n",
        "sns.histplot(x='trip_duration_mins', data=result, bins=100)\n",
        "ax.set_xlabel('Trip Duration (mins)', labelpad=15, fontdict={'fontsize':15})\n",
        "ax.set_ylabel('Number of trips', labelpad=15, fontdict={'fontsize':15})\n",
        "plt.show()"
      ]
    },
    {
      "cell_type": "code",
      "execution_count": 46,
      "metadata": {
        "colab": {
          "base_uri": "https://localhost:8080/",
          "height": 519
        },
        "id": "SoK-_8CiElr2",
        "outputId": "55835500-5c98-4e5b-f3ea-3d09c27306fb"
      },
      "outputs": [
        {
          "data": {
            "image/png": "[encoded data removed]",
            "text/plain": [
              "<Figure size 1080x576 with 1 Axes>"
            ]
          },
          "metadata": {},
          "output_type": "display_data"
        }
      ],
      "source": [
        "f, ax=plt.subplots(figsize=(15,8))\n",
        "plt.title('Distribution of Average speed of trips', fontdict={'fontsize':15})\n",
        "sns.histplot(x='log_trip_duration_mins', data=result, bins=100)\n",
        "ax.set_xlabel('Natural Logarithmic values of Trip Duration (mins)', labelpad=15, fontdict={'fontsize':15})\n",
        "ax.set_ylabel('Number of trips', labelpad=15, fontdict={'fontsize':15})\n",
        "plt.show()"
      ]
    },
    {
      "cell_type": "markdown",
      "metadata": {
        "id": "oUxc4F4cICop"
      },
      "source": [
        "## Trip Average Speed"
      ]
    },
    {
      "cell_type": "code",
      "execution_count": 47,
      "metadata": {
        "colab": {
          "base_uri": "https://localhost:8080/",
          "height": 519
        },
        "id": "g4WWt-Daqjs3",
        "outputId": "dcdbc86d-92eb-4cae-8d1b-4adbe6270745"
      },
      "outputs": [
        {
          "data": {
            "image/png": "[encoded data removed]",
            "text/plain": [
              "<Figure size 1080x576 with 1 Axes>"
            ]
          },
          "metadata": {},
          "output_type": "display_data"
        }
      ],
      "source": [
        "f, ax=plt.subplots(figsize=(15,8))\n",
        "plt.title('Distribution of duration of trips (in minutes)', fontdict={'fontsize':15})\n",
        "sns.histplot(x='speed', data=result, bins=50)\n",
        "ax.set_xlabel('Average Speed of Trip', labelpad=15, fontdict={'fontsize':15})\n",
        "ax.set_ylabel('Number of trips', labelpad=15, fontdict={'fontsize':15})\n",
        "plt.show()"
      ]
    },
    {
      "cell_type": "code",
      "execution_count": 48,
      "metadata": {
        "colab": {
          "base_uri": "https://localhost:8080/",
          "height": 519
        },
        "id": "R3jxTKaFsMet",
        "outputId": "4a278b07-3835-47bd-b4c4-f02bcc1fda60"
      },
      "outputs": [
        {
          "data": {
            "image/png": "[encoded data removed]",
            "text/plain": [
              "<Figure size 1080x576 with 1 Axes>"
            ]
          },
          "metadata": {},
          "output_type": "display_data"
        }
      ],
      "source": [
        "sns.set(rc = {'figure.figsize':(12,8)})\n",
        "f, ax=plt.subplots(figsize=(15,8))\n",
        "plt.title('Distribution of natural logarithmic values of Average Speed of trips', fontdict={'fontsize':15})\n",
        "sns.histplot(x='log_speed', data=result, bins=50, palette='red')\n",
        "ax.set_xlabel('Natural Logarithmic values of Average Speed of Trip', labelpad=15, fontdict={'fontsize':15})\n",
        "ax.set_ylabel('Number of trips', labelpad=15, fontdict={'fontsize':15})\n",
        "plt.show()"
      ]
    },
    {
      "cell_type": "markdown",
      "metadata": {
        "id": "2TkYwojEbDZr"
      },
      "source": [
        "# Feature Selection for Model"
      ]
    },
    {
      "cell_type": "code",
      "execution_count": 31,
      "metadata": {
        "id": "gqqgQkE_bGJt"
      },
      "outputs": [],
      "source": [
        "import pandas as pd\n",
        "import matplotlib.pyplot as plt\n",
        "import seaborn as sns\n",
        "from statsmodels.stats.outliers_influence import variance_inflation_factor"
      ]
    },
    {
      "cell_type": "code",
      "execution_count": 32,
      "metadata": {
        "colab": {
          "base_uri": "https://localhost:8080/",
          "height": 383
        },
        "id": "jd5ksGzJeurG",
        "outputId": "6e63a653-6937-4bd0-8057-84eae263b13e"
      },
      "outputs": [
        {
          "data": {
            "text/html": [
              "<style type=\"text/css\">\n",
              "#T_8c524_row0_col0, #T_8c524_row1_col1, #T_8c524_row2_col2, #T_8c524_row3_col3, #T_8c524_row4_col4, #T_8c524_row5_col5, #T_8c524_row6_col6, #T_8c524_row6_col7, #T_8c524_row7_col6, #T_8c524_row7_col7, #T_8c524_row8_col8, #T_8c524_row8_col9, #T_8c524_row9_col8, #T_8c524_row9_col9 {\n",
              "  background-color: #b40426;\n",
              "  color: #f1f1f1;\n",
              "}\n",
              "#T_8c524_row0_col1, #T_8c524_row3_col2 {\n",
              "  background-color: #445acc;\n",
              "  color: #f1f1f1;\n",
              "}\n",
              "#T_8c524_row0_col2, #T_8c524_row0_col6, #T_8c524_row0_col7 {\n",
              "  background-color: #4b64d5;\n",
              "  color: #f1f1f1;\n",
              "}\n",
              "#T_8c524_row0_col3, #T_8c524_row1_col2, #T_8c524_row4_col1 {\n",
              "  background-color: #4961d2;\n",
              "  color: #f1f1f1;\n",
              "}\n",
              "#T_8c524_row0_col4, #T_8c524_row1_col0, #T_8c524_row3_col8, #T_8c524_row3_col9 {\n",
              "  background-color: #4257c9;\n",
              "  color: #f1f1f1;\n",
              "}\n",
              "#T_8c524_row0_col5, #T_8c524_row0_col8, #T_8c524_row0_col9, #T_8c524_row5_col3 {\n",
              "  background-color: #4e68d8;\n",
              "  color: #f1f1f1;\n",
              "}\n",
              "#T_8c524_row1_col3 {\n",
              "  background-color: #6687ed;\n",
              "  color: #f1f1f1;\n",
              "}\n",
              "#T_8c524_row1_col4 {\n",
              "  background-color: #4c66d6;\n",
              "  color: #f1f1f1;\n",
              "}\n",
              "#T_8c524_row1_col5 {\n",
              "  background-color: #506bda;\n",
              "  color: #f1f1f1;\n",
              "}\n",
              "#T_8c524_row1_col6, #T_8c524_row1_col7 {\n",
              "  background-color: #465ecf;\n",
              "  color: #f1f1f1;\n",
              "}\n",
              "#T_8c524_row1_col8, #T_8c524_row1_col9 {\n",
              "  background-color: #4a63d3;\n",
              "  color: #f1f1f1;\n",
              "}\n",
              "#T_8c524_row2_col0, #T_8c524_row2_col1, #T_8c524_row2_col4, #T_8c524_row2_col5, #T_8c524_row2_col6, #T_8c524_row2_col7, #T_8c524_row2_col8, #T_8c524_row2_col9, #T_8c524_row4_col0, #T_8c524_row5_col2, #T_8c524_row6_col3, #T_8c524_row7_col3, #T_8c524_row8_col1, #T_8c524_row8_col2, #T_8c524_row8_col3, #T_8c524_row9_col1, #T_8c524_row9_col2, #T_8c524_row9_col3 {\n",
              "  background-color: #3b4cc0;\n",
              "  color: #f1f1f1;\n",
              "}\n",
              "#T_8c524_row2_col3, #T_8c524_row3_col6, #T_8c524_row3_col7, #T_8c524_row5_col0, #T_8c524_row6_col0, #T_8c524_row7_col0, #T_8c524_row8_col0, #T_8c524_row9_col0 {\n",
              "  background-color: #3d50c3;\n",
              "  color: #f1f1f1;\n",
              "}\n",
              "#T_8c524_row3_col0 {\n",
              "  background-color: #3f53c6;\n",
              "  color: #f1f1f1;\n",
              "}\n",
              "#T_8c524_row3_col1 {\n",
              "  background-color: #5e7de7;\n",
              "  color: #f1f1f1;\n",
              "}\n",
              "#T_8c524_row3_col4 {\n",
              "  background-color: #5f7fe8;\n",
              "  color: #f1f1f1;\n",
              "}\n",
              "#T_8c524_row3_col5 {\n",
              "  background-color: #5470de;\n",
              "  color: #f1f1f1;\n",
              "}\n",
              "#T_8c524_row4_col2 {\n",
              "  background-color: #455cce;\n",
              "  color: #f1f1f1;\n",
              "}\n",
              "#T_8c524_row4_col3 {\n",
              "  background-color: #6282ea;\n",
              "  color: #f1f1f1;\n",
              "}\n",
              "#T_8c524_row4_col5 {\n",
              "  background-color: #f7b89c;\n",
              "  color: #000000;\n",
              "}\n",
              "#T_8c524_row4_col6, #T_8c524_row4_col7 {\n",
              "  background-color: #7b9ff9;\n",
              "  color: #f1f1f1;\n",
              "}\n",
              "#T_8c524_row4_col8, #T_8c524_row4_col9 {\n",
              "  background-color: #6e90f2;\n",
              "  color: #f1f1f1;\n",
              "}\n",
              "#T_8c524_row5_col1 {\n",
              "  background-color: #4358cb;\n",
              "  color: #f1f1f1;\n",
              "}\n",
              "#T_8c524_row5_col4 {\n",
              "  background-color: #f7bca1;\n",
              "  color: #000000;\n",
              "}\n",
              "#T_8c524_row5_col6, #T_8c524_row5_col7, #T_8c524_row6_col5, #T_8c524_row7_col5 {\n",
              "  background-color: #f49a7b;\n",
              "  color: #000000;\n",
              "}\n",
              "#T_8c524_row5_col8, #T_8c524_row5_col9, #T_8c524_row8_col5, #T_8c524_row9_col5 {\n",
              "  background-color: #e57058;\n",
              "  color: #f1f1f1;\n",
              "}\n",
              "#T_8c524_row6_col1, #T_8c524_row7_col1 {\n",
              "  background-color: #3c4ec2;\n",
              "  color: #f1f1f1;\n",
              "}\n",
              "#T_8c524_row6_col2, #T_8c524_row7_col2 {\n",
              "  background-color: #3e51c5;\n",
              "  color: #f1f1f1;\n",
              "}\n",
              "#T_8c524_row6_col4, #T_8c524_row7_col4 {\n",
              "  background-color: #7597f6;\n",
              "  color: #f1f1f1;\n",
              "}\n",
              "#T_8c524_row6_col8, #T_8c524_row6_col9, #T_8c524_row7_col8, #T_8c524_row7_col9, #T_8c524_row8_col6, #T_8c524_row8_col7, #T_8c524_row9_col6, #T_8c524_row9_col7 {\n",
              "  background-color: #e46e56;\n",
              "  color: #f1f1f1;\n",
              "}\n",
              "#T_8c524_row8_col4, #T_8c524_row9_col4 {\n",
              "  background-color: #6384eb;\n",
              "  color: #f1f1f1;\n",
              "}\n",
              "</style>\n",
              "<table id=\"T_8c524_\">\n",
              "  <thead>\n",
              "    <tr>\n",
              "      <th class=\"blank level0\" >&nbsp;</th>\n",
              "      <th class=\"col_heading level0 col0\" >passenger_count</th>\n",
              "      <th class=\"col_heading level0 col1\" >pickup_day_number</th>\n",
              "      <th class=\"col_heading level0 col2\" >tip_percentage</th>\n",
              "      <th class=\"col_heading level0 col3\" >pickup_hour_quater</th>\n",
              "      <th class=\"col_heading level0 col4\" >log_speed</th>\n",
              "      <th class=\"col_heading level0 col5\" >log_trip_distance</th>\n",
              "      <th class=\"col_heading level0 col6\" >trip_duration_hours</th>\n",
              "      <th class=\"col_heading level0 col7\" >trip_duration_mins</th>\n",
              "      <th class=\"col_heading level0 col8\" >log_trip_duration_hours</th>\n",
              "      <th class=\"col_heading level0 col9\" >log_trip_duration_mins</th>\n",
              "    </tr>\n",
              "  </thead>\n",
              "  <tbody>\n",
              "    <tr>\n",
              "      <th id=\"T_8c524_level0_row0\" class=\"row_heading level0 row0\" >passenger_count</th>\n",
              "      <td id=\"T_8c524_row0_col0\" class=\"data row0 col0\" >1.000000</td>\n",
              "      <td id=\"T_8c524_row0_col1\" class=\"data row0 col1\" >0.032096</td>\n",
              "      <td id=\"T_8c524_row0_col2\" class=\"data row0 col2\" >0.008565</td>\n",
              "      <td id=\"T_8c524_row0_col3\" class=\"data row0 col3\" >0.023935</td>\n",
              "      <td id=\"T_8c524_row0_col4\" class=\"data row0 col4\" >0.008331</td>\n",
              "      <td id=\"T_8c524_row0_col5\" class=\"data row0 col5\" >0.017514</td>\n",
              "      <td id=\"T_8c524_row0_col6\" class=\"data row0 col6\" >0.017521</td>\n",
              "      <td id=\"T_8c524_row0_col7\" class=\"data row0 col7\" >0.017521</td>\n",
              "      <td id=\"T_8c524_row0_col8\" class=\"data row0 col8\" >0.016777</td>\n",
              "      <td id=\"T_8c524_row0_col9\" class=\"data row0 col9\" >0.016777</td>\n",
              "    </tr>\n",
              "    <tr>\n",
              "      <th id=\"T_8c524_level0_row1\" class=\"row_heading level0 row1\" >pickup_day_number</th>\n",
              "      <td id=\"T_8c524_row1_col0\" class=\"data row1 col0\" >0.032096</td>\n",
              "      <td id=\"T_8c524_row1_col1\" class=\"data row1 col1\" >1.000000</td>\n",
              "      <td id=\"T_8c524_row1_col2\" class=\"data row1 col2\" >-0.001433</td>\n",
              "      <td id=\"T_8c524_row1_col3\" class=\"data row1 col3\" >0.113184</td>\n",
              "      <td id=\"T_8c524_row1_col4\" class=\"data row1 col4\" >0.046381</td>\n",
              "      <td id=\"T_8c524_row1_col5\" class=\"data row1 col5\" >0.027025</td>\n",
              "      <td id=\"T_8c524_row1_col6\" class=\"data row1 col6\" >0.003917</td>\n",
              "      <td id=\"T_8c524_row1_col7\" class=\"data row1 col7\" >0.003917</td>\n",
              "      <td id=\"T_8c524_row1_col8\" class=\"data row1 col8\" >0.001464</td>\n",
              "      <td id=\"T_8c524_row1_col9\" class=\"data row1 col9\" >0.001464</td>\n",
              "    </tr>\n",
              "    <tr>\n",
              "      <th id=\"T_8c524_level0_row2\" class=\"row_heading level0 row2\" >tip_percentage</th>\n",
              "      <td id=\"T_8c524_row2_col0\" class=\"data row2 col0\" >0.008565</td>\n",
              "      <td id=\"T_8c524_row2_col1\" class=\"data row2 col1\" >-0.001433</td>\n",
              "      <td id=\"T_8c524_row2_col2\" class=\"data row2 col2\" >1.000000</td>\n",
              "      <td id=\"T_8c524_row2_col3\" class=\"data row2 col3\" >-0.016961</td>\n",
              "      <td id=\"T_8c524_row2_col4\" class=\"data row2 col4\" >-0.015979</td>\n",
              "      <td id=\"T_8c524_row2_col5\" class=\"data row2 col5\" >-0.049623</td>\n",
              "      <td id=\"T_8c524_row2_col6\" class=\"data row2 col6\" >-0.039448</td>\n",
              "      <td id=\"T_8c524_row2_col7\" class=\"data row2 col7\" >-0.039448</td>\n",
              "      <td id=\"T_8c524_row2_col8\" class=\"data row2 col8\" >-0.053087</td>\n",
              "      <td id=\"T_8c524_row2_col9\" class=\"data row2 col9\" >-0.053087</td>\n",
              "    </tr>\n",
              "    <tr>\n",
              "      <th id=\"T_8c524_level0_row3\" class=\"row_heading level0 row3\" >pickup_hour_quater</th>\n",
              "      <td id=\"T_8c524_row3_col0\" class=\"data row3 col0\" >0.023935</td>\n",
              "      <td id=\"T_8c524_row3_col1\" class=\"data row3 col1\" >0.113184</td>\n",
              "      <td id=\"T_8c524_row3_col2\" class=\"data row3 col2\" >-0.016961</td>\n",
              "      <td id=\"T_8c524_row3_col3\" class=\"data row3 col3\" >1.000000</td>\n",
              "      <td id=\"T_8c524_row3_col4\" class=\"data row3 col4\" >0.104333</td>\n",
              "      <td id=\"T_8c524_row3_col5\" class=\"data row3 col5\" >0.037577</td>\n",
              "      <td id=\"T_8c524_row3_col6\" class=\"data row3 col6\" >-0.027699</td>\n",
              "      <td id=\"T_8c524_row3_col7\" class=\"data row3 col7\" >-0.027699</td>\n",
              "      <td id=\"T_8c524_row3_col8\" class=\"data row3 col8\" >-0.026986</td>\n",
              "      <td id=\"T_8c524_row3_col9\" class=\"data row3 col9\" >-0.026986</td>\n",
              "    </tr>\n",
              "    <tr>\n",
              "      <th id=\"T_8c524_level0_row4\" class=\"row_heading level0 row4\" >log_speed</th>\n",
              "      <td id=\"T_8c524_row4_col0\" class=\"data row4 col0\" >0.008331</td>\n",
              "      <td id=\"T_8c524_row4_col1\" class=\"data row4 col1\" >0.046381</td>\n",
              "      <td id=\"T_8c524_row4_col2\" class=\"data row4 col2\" >-0.015979</td>\n",
              "      <td id=\"T_8c524_row4_col3\" class=\"data row4 col3\" >0.104333</td>\n",
              "      <td id=\"T_8c524_row4_col4\" class=\"data row4 col4\" >1.000000</td>\n",
              "      <td id=\"T_8c524_row4_col5\" class=\"data row4 col5\" >0.648317</td>\n",
              "      <td id=\"T_8c524_row4_col6\" class=\"data row4 col6\" >0.168351</td>\n",
              "      <td id=\"T_8c524_row4_col7\" class=\"data row4 col7\" >0.168351</td>\n",
              "      <td id=\"T_8c524_row4_col8\" class=\"data row4 col8\" >0.117203</td>\n",
              "      <td id=\"T_8c524_row4_col9\" class=\"data row4 col9\" >0.117203</td>\n",
              "    </tr>\n",
              "    <tr>\n",
              "      <th id=\"T_8c524_level0_row5\" class=\"row_heading level0 row5\" >log_trip_distance</th>\n",
              "      <td id=\"T_8c524_row5_col0\" class=\"data row5 col0\" >0.017514</td>\n",
              "      <td id=\"T_8c524_row5_col1\" class=\"data row5 col1\" >0.027025</td>\n",
              "      <td id=\"T_8c524_row5_col2\" class=\"data row5 col2\" >-0.049623</td>\n",
              "      <td id=\"T_8c524_row5_col3\" class=\"data row5 col3\" >0.037577</td>\n",
              "      <td id=\"T_8c524_row5_col4\" class=\"data row5 col4\" >0.648317</td>\n",
              "      <td id=\"T_8c524_row5_col5\" class=\"data row5 col5\" >1.000000</td>\n",
              "      <td id=\"T_8c524_row5_col6\" class=\"data row5 col6\" >0.737141</td>\n",
              "      <td id=\"T_8c524_row5_col7\" class=\"data row5 col7\" >0.737141</td>\n",
              "      <td id=\"T_8c524_row5_col8\" class=\"data row5 col8\" >0.832108</td>\n",
              "      <td id=\"T_8c524_row5_col9\" class=\"data row5 col9\" >0.832108</td>\n",
              "    </tr>\n",
              "    <tr>\n",
              "      <th id=\"T_8c524_level0_row6\" class=\"row_heading level0 row6\" >trip_duration_hours</th>\n",
              "      <td id=\"T_8c524_row6_col0\" class=\"data row6 col0\" >0.017521</td>\n",
              "      <td id=\"T_8c524_row6_col1\" class=\"data row6 col1\" >0.003917</td>\n",
              "      <td id=\"T_8c524_row6_col2\" class=\"data row6 col2\" >-0.039448</td>\n",
              "      <td id=\"T_8c524_row6_col3\" class=\"data row6 col3\" >-0.027699</td>\n",
              "      <td id=\"T_8c524_row6_col4\" class=\"data row6 col4\" >0.168351</td>\n",
              "      <td id=\"T_8c524_row6_col5\" class=\"data row6 col5\" >0.737141</td>\n",
              "      <td id=\"T_8c524_row6_col6\" class=\"data row6 col6\" >1.000000</td>\n",
              "      <td id=\"T_8c524_row6_col7\" class=\"data row6 col7\" >1.000000</td>\n",
              "      <td id=\"T_8c524_row6_col8\" class=\"data row6 col8\" >0.838870</td>\n",
              "      <td id=\"T_8c524_row6_col9\" class=\"data row6 col9\" >0.838870</td>\n",
              "    </tr>\n",
              "    <tr>\n",
              "      <th id=\"T_8c524_level0_row7\" class=\"row_heading level0 row7\" >trip_duration_mins</th>\n",
              "      <td id=\"T_8c524_row7_col0\" class=\"data row7 col0\" >0.017521</td>\n",
              "      <td id=\"T_8c524_row7_col1\" class=\"data row7 col1\" >0.003917</td>\n",
              "      <td id=\"T_8c524_row7_col2\" class=\"data row7 col2\" >-0.039448</td>\n",
              "      <td id=\"T_8c524_row7_col3\" class=\"data row7 col3\" >-0.027699</td>\n",
              "      <td id=\"T_8c524_row7_col4\" class=\"data row7 col4\" >0.168351</td>\n",
              "      <td id=\"T_8c524_row7_col5\" class=\"data row7 col5\" >0.737141</td>\n",
              "      <td id=\"T_8c524_row7_col6\" class=\"data row7 col6\" >1.000000</td>\n",
              "      <td id=\"T_8c524_row7_col7\" class=\"data row7 col7\" >1.000000</td>\n",
              "      <td id=\"T_8c524_row7_col8\" class=\"data row7 col8\" >0.838870</td>\n",
              "      <td id=\"T_8c524_row7_col9\" class=\"data row7 col9\" >0.838870</td>\n",
              "    </tr>\n",
              "    <tr>\n",
              "      <th id=\"T_8c524_level0_row8\" class=\"row_heading level0 row8\" >log_trip_duration_hours</th>\n",
              "      <td id=\"T_8c524_row8_col0\" class=\"data row8 col0\" >0.016777</td>\n",
              "      <td id=\"T_8c524_row8_col1\" class=\"data row8 col1\" >0.001464</td>\n",
              "      <td id=\"T_8c524_row8_col2\" class=\"data row8 col2\" >-0.053087</td>\n",
              "      <td id=\"T_8c524_row8_col3\" class=\"data row8 col3\" >-0.026986</td>\n",
              "      <td id=\"T_8c524_row8_col4\" class=\"data row8 col4\" >0.117203</td>\n",
              "      <td id=\"T_8c524_row8_col5\" class=\"data row8 col5\" >0.832108</td>\n",
              "      <td id=\"T_8c524_row8_col6\" class=\"data row8 col6\" >0.838870</td>\n",
              "      <td id=\"T_8c524_row8_col7\" class=\"data row8 col7\" >0.838870</td>\n",
              "      <td id=\"T_8c524_row8_col8\" class=\"data row8 col8\" >1.000000</td>\n",
              "      <td id=\"T_8c524_row8_col9\" class=\"data row8 col9\" >1.000000</td>\n",
              "    </tr>\n",
              "    <tr>\n",
              "      <th id=\"T_8c524_level0_row9\" class=\"row_heading level0 row9\" >log_trip_duration_mins</th>\n",
              "      <td id=\"T_8c524_row9_col0\" class=\"data row9 col0\" >0.016777</td>\n",
              "      <td id=\"T_8c524_row9_col1\" class=\"data row9 col1\" >0.001464</td>\n",
              "      <td id=\"T_8c524_row9_col2\" class=\"data row9 col2\" >-0.053087</td>\n",
              "      <td id=\"T_8c524_row9_col3\" class=\"data row9 col3\" >-0.026986</td>\n",
              "      <td id=\"T_8c524_row9_col4\" class=\"data row9 col4\" >0.117203</td>\n",
              "      <td id=\"T_8c524_row9_col5\" class=\"data row9 col5\" >0.832108</td>\n",
              "      <td id=\"T_8c524_row9_col6\" class=\"data row9 col6\" >0.838870</td>\n",
              "      <td id=\"T_8c524_row9_col7\" class=\"data row9 col7\" >0.838870</td>\n",
              "      <td id=\"T_8c524_row9_col8\" class=\"data row9 col8\" >1.000000</td>\n",
              "      <td id=\"T_8c524_row9_col9\" class=\"data row9 col9\" >1.000000</td>\n",
              "    </tr>\n",
              "  </tbody>\n",
              "</table>\n"
            ],
            "text/plain": [
              "<pandas.io.formats.style.Styler at 0x19ec9bc17c0>"
            ]
          },
          "execution_count": 32,
          "metadata": {},
          "output_type": "execute_result"
        }
      ],
      "source": [
        "corr = result[['passenger_count','pickup_day_number','tip_percentage',\t'pickup_hour_quater', 'log_speed',\t'log_trip_distance', 'trip_duration_hours','trip_duration_mins','log_trip_duration_hours', 'log_trip_duration_mins']].corr()\n",
        "corr.style.background_gradient(cmap='coolwarm')"
      ]
    },
    {
      "cell_type": "code",
      "execution_count": 33,
      "metadata": {
        "colab": {
          "base_uri": "https://localhost:8080/"
        },
        "id": "28vdzpZJ7122",
        "outputId": "e2518790-ff0f-41a7-bdb3-da191a53b95c"
      },
      "outputs": [
        {
          "name": "stdout",
          "output_type": "stream",
          "text": [
            "                 variable        VIF\n",
            "0               log_speed  21.820102\n",
            "1      pickup_hour_quater   9.305679\n",
            "2       pickup_day_number   3.736234\n",
            "3         passenger_count   2.983107\n",
            "4  log_trip_duration_mins  19.457454\n",
            "5           trip_distance   2.815256\n"
          ]
        }
      ],
      "source": [
        "X=result[['log_speed','pickup_hour_quater','pickup_day_number','passenger_count','log_trip_duration_mins','trip_distance']]\n",
        "vif = pd.DataFrame()\n",
        "vif['variable'] = X.columns\n",
        "vif['VIF'] = [variance_inflation_factor(X.values, i) for i in range(X.shape[1])]\n",
        "print(vif)"
      ]
    },
    {
      "cell_type": "code",
      "execution_count": 34,
      "metadata": {
        "colab": {
          "base_uri": "https://localhost:8080/"
        },
        "id": "es1iuvG2W_OP",
        "outputId": "48d2e920-c4fc-4865-8bba-eab34203ad2e"
      },
      "outputs": [
        {
          "name": "stdout",
          "output_type": "stream",
          "text": [
            "             variable       VIF\n",
            "0       trip_distance  1.725174\n",
            "1  pickup_hour_quater  4.369408\n",
            "2   pickup_day_number  3.284215\n",
            "3     passenger_count  2.627734\n"
          ]
        }
      ],
      "source": [
        "#Since log_trip_duration_mins and log_speeed are highly corelated and add to multicolinearity, we can drop one of them.\n",
        "#Dropping log_trip_duration_mins and log_speeed\n",
        "\n",
        "X=result[['trip_distance', 'pickup_hour_quater','pickup_day_number','passenger_count']]\n",
        "vif = pd.DataFrame()\n",
        "vif['variable'] = X.columns\n",
        "vif['VIF'] = [variance_inflation_factor(X.values, i) for i in range(X.shape[1])]\n",
        "print(vif)"
      ]
    },
    {
      "cell_type": "markdown",
      "metadata": {
        "id": "7QEM_8FMV4kh"
      },
      "source": [
        "# Decision Tree Classifier"
      ]
    },
    {
      "cell_type": "code",
      "execution_count": 35,
      "metadata": {
        "id": "fWNN2_eNgOVZ"
      },
      "outputs": [],
      "source": [
        "from sklearn.model_selection import train_test_split\n",
        "from sklearn.tree import DecisionTreeClassifier\n",
        "from sklearn.preprocessing import StandardScaler\n",
        "from sklearn.metrics import classification_report, confusion_matrix\n",
        "X=result[['passenger_count', 'pickup_day_number', 'pickup_hour_quater', 'log_trip_distance']]\n",
        "y=result[['tip_percentage_bin']]\n",
        "X_train, X_test, y_train, y_test = train_test_split(X, y, test_size=0.4, random_state=42)\n",
        "sc = StandardScaler()\n",
        "X_train = sc.fit_transform(X_train)\n",
        "X_test = sc.transform(X_test)\n",
        "classifier = DecisionTreeClassifier()\n",
        "classifier.fit(X_train, y_train)\n",
        "y_pred=classifier.predict(X_test)"
      ]
    },
    {
      "cell_type": "code",
      "execution_count": 36,
      "metadata": {},
      "outputs": [
        {
          "name": "stdout",
          "output_type": "stream",
          "text": [
            "              precision    recall  f1-score   support\n",
            "\n",
            "           1       0.60      0.60      0.60    256423\n",
            "           2       0.71      0.71      0.71    361429\n",
            "\n",
            "    accuracy                           0.67    617852\n",
            "   macro avg       0.66      0.66      0.66    617852\n",
            "weighted avg       0.67      0.67      0.67    617852\n",
            "\n"
          ]
        }
      ],
      "source": [
        "print(classification_report(y_test,y_pred))"
      ]
    },
    {
      "cell_type": "code",
      "execution_count": 37,
      "metadata": {},
      "outputs": [
        {
          "data": {
            "image/png": "[encoded data removed]",
            "text/plain": [
              "<Figure size 504x360 with 2 Axes>"
            ]
          },
          "metadata": {},
          "output_type": "display_data"
        }
      ],
      "source": [
        "def make_confusion_matrix_plot(cf, group_names=None, categories='auto', count=True, percent=True, cbar=True, xyticks=True, xyplotlabels=True, sum_stats=True, figsize=None, cmap='Blues', title=None):\n",
        "    blanks = ['' for i in range(cf.size)]\n",
        "    if group_names and len(group_names)==cf.size:\n",
        "        group_labels = [\"{}\\n\".format(value) for value in group_names]\n",
        "    else:\n",
        "        group_labels = blanks\n",
        "    if count:\n",
        "        group_counts = [\"{0:0.0f}\\n\".format(value) for value in cf.flatten()]\n",
        "    else:\n",
        "        group_counts = blanks\n",
        "    if percent:\n",
        "        group_percentages = [\"{0:.2%}\".format(value) for value in cf.flatten()/np.sum(cf)]\n",
        "    else:\n",
        "        group_percentages = blanks\n",
        "    box_labels = [f\"{v1}{v2}{v3}\".strip() for v1, v2, v3 in zip(group_labels,group_counts,group_percentages)]\n",
        "    box_labels = np.asarray(box_labels).reshape(cf.shape[0],cf.shape[1])\n",
        "    if sum_stats:\n",
        "        accuracy  = np.trace(cf) / float(np.sum(cf))\n",
        "        if len(cf)==2:\n",
        "            precision = cf[1,1] / sum(cf[:,1])\n",
        "            recall    = cf[1,1] / sum(cf[1,:])\n",
        "            f1_score  = 2*precision*recall / (precision + recall)\n",
        "            stats_text = \"\\n\\nAccuracy={:0.3f}\\nPrecision={:0.3f}\\nRecall={:0.3f}\\nF1 Score={:0.3f}\".format(\n",
        "                accuracy,precision,recall,f1_score)\n",
        "        else:\n",
        "            stats_text = \"\\n\\nAccuracy={:0.3f}\".format(accuracy)\n",
        "    else:\n",
        "        stats_text = \"\"\n",
        "    if figsize==None:\n",
        "        figsize = plt.rcParams.get('figure.figsize')\n",
        "\n",
        "    if xyticks==False:\n",
        "        categories=False\n",
        "\n",
        "    plt.figure(figsize=figsize)\n",
        "    sns.heatmap(cf,annot=box_labels,fmt=\"\",cmap=cmap,cbar=cbar,xticklabels=categories,yticklabels=categories)\n",
        "\n",
        "    if xyplotlabels:\n",
        "        plt.ylabel('True label')\n",
        "        plt.xlabel('Predicted label' + stats_text)\n",
        "    else:\n",
        "        plt.xlabel(stats_text)\n",
        "    \n",
        "    if title:\n",
        "        plt.title(title)\n",
        "\n",
        "conf=(confusion_matrix(y_test,y_pred))\n",
        "sns.set(rc = {'figure.figsize':(7,5)})\n",
        "labels = ['True Negative','False Positive','False Negative','True Positive']\n",
        "categories = ['Zero', 'One']\n",
        "make_confusion_matrix_plot(conf, group_names=labels, categories=categories, cmap='Blues')"
      ]
    },
    {
      "cell_type": "markdown",
      "metadata": {},
      "source": [
        "# Random Forest Regressor"
      ]
    },
    {
      "cell_type": "code",
      "execution_count": 38,
      "metadata": {},
      "outputs": [],
      "source": [
        "chosen_idx = np.random.choice(1500000, replace=False, size=10000)\n",
        "result_sample = result.iloc[chosen_idx]"
      ]
    },
    {
      "cell_type": "code",
      "execution_count": 39,
      "metadata": {},
      "outputs": [],
      "source": [
        "X=result_sample[['passenger_count', 'log_trip_distance', 'pickup_day_number', 'pickup_hour_quater']]\n",
        "y=result_sample[['tip_percentage']]"
      ]
    },
    {
      "cell_type": "code",
      "execution_count": 40,
      "metadata": {},
      "outputs": [],
      "source": [
        "from sklearn.model_selection import train_test_split\n",
        "from sklearn.ensemble import RandomForestRegressor\n",
        "from sklearn.preprocessing import StandardScaler\n",
        "from sklearn import metrics\n",
        "X_train, X_test, y_train, y_test = train_test_split(X, y, test_size=0.3, random_state=2)\n",
        "sc = StandardScaler()\n",
        "X_train = sc.fit_transform(X_train)\n",
        "X_test = sc.transform(X_test)"
      ]
    },
    {
      "cell_type": "code",
      "execution_count": 41,
      "metadata": {},
      "outputs": [
        {
          "name": "stderr",
          "output_type": "stream",
          "text": [
            "C:\\Users\\romil\\AppData\\Local\\Temp/ipykernel_19936/1976750987.py:2: DataConversionWarning: A column-vector y was passed when a 1d array was expected. Please change the shape of y to (n_samples,), for example using ravel().\n",
            "  regressor.fit(X_train, y_train)\n"
          ]
        }
      ],
      "source": [
        "regressor = RandomForestRegressor(n_estimators=100)\n",
        "regressor.fit(X_train, y_train)\n",
        "y_pred=regressor.predict(X_test)"
      ]
    },
    {
      "cell_type": "code",
      "execution_count": 42,
      "metadata": {},
      "outputs": [
        {
          "name": "stdout",
          "output_type": "stream",
          "text": [
            "             Variable  Importance of variable\n",
            "0     passenger_count                 9.01172\n",
            "1   log_trip_distance                12.40894\n",
            "2   pickup_day_number                18.67790\n",
            "3  pickup_hour_quater                59.90144\n"
          ]
        }
      ],
      "source": [
        "importances = regressor.feature_importances_\n",
        "indices = np.argsort(importances)\n",
        "importance_matrix = pd.DataFrame()\n",
        "importance_matrix['Variable'] = X.columns\n",
        "importance_matrix['Importance of variable'] = importances[indices]*100\n",
        "print(importance_matrix)"
      ]
    },
    {
      "cell_type": "code",
      "execution_count": 43,
      "metadata": {},
      "outputs": [
        {
          "name": "stdout",
          "output_type": "stream",
          "text": [
            "Mean Squared Error: 24.68022791191502\n",
            "Root Mean Squared Error: 4.967919877767255\n"
          ]
        }
      ],
      "source": [
        "print('Mean Squared Error:', metrics.mean_squared_error(y_test, y_pred))\n",
        "print('Root Mean Squared Error:', np.sqrt(metrics.mean_squared_error(y_test, y_pred)))"
      ]
    }
  ],
  "metadata": {
    "colab": {
      "collapsed_sections": [
        "Mv_h9JAfV0UW",
        "xFLvvK0DrUkf"
      ],
      "name": "CA683 - DM Assignment.ipynb",
      "provenance": []
    },
    "kernelspec": {
      "display_name": "Python 3",
      "name": "python3"
    },
    "language_info": {
      "codemirror_mode": {
        "name": "ipython",
        "version": 3
      },
      "file_extension": ".py",
      "mimetype": "text/x-python",
      "name": "python",
      "nbconvert_exporter": "python",
      "pygments_lexer": "ipython3",
      "version": "3.9.9"
    }
  },
  "nbformat": 4,
  "nbformat_minor": 0
}
